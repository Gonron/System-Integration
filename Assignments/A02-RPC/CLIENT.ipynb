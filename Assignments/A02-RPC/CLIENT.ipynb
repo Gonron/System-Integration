{
 "cells": [
  {
   "cell_type": "code",
   "execution_count": 4,
   "metadata": {},
   "outputs": [],
   "source": [
    "import sqlite3\n",
    "# Connect to DB -> if file doesnt exist, it will create the file\n",
    "conn = sqlite3.connect(\"db.sql\")\n",
    "\n",
    "# Simple create table query, from doras example\n",
    "create_table_query = \"\"\"CREATE TABLE Customer (\n",
    "  accnum INTEGER PRIMARY KEY,\n",
    "  name TEXT NOT NULL,\n",
    "  amount REAL\n",
    ");\"\"\"\n",
    "\n",
    "# Create a cursor\n",
    "c = conn.cursor()\n",
    "\n",
    "# Run create table query\n",
    "c.execute(create_table_query)\n",
    "\n",
    "# Insert some dummy data into DB\n",
    "c.execute(\"\"\"INSERT INTO Customer (accnum, name, amount) VALUES\n",
    "(1234, 'Alice Wonderland', 1000),\n",
    "(2345, 'Bill Bates', 10000),\n",
    "(3456, 'Corunsho Alakija', 100000);\"\"\")\n",
    "\n",
    "# Commit all the above SQL commands\n",
    "conn.commit()"
   ]
  }
 ],
 "metadata": {
  "kernelspec": {
   "display_name": "Python 3",
   "language": "python",
   "name": "python3"
  },
  "language_info": {
   "codemirror_mode": {
    "name": "ipython",
    "version": 3
   },
   "file_extension": ".py",
   "mimetype": "text/x-python",
   "name": "python",
   "nbconvert_exporter": "python",
   "pygments_lexer": "ipython3",
   "version": "3.7.3"
  }
 },
 "nbformat": 4,
 "nbformat_minor": 2
}
