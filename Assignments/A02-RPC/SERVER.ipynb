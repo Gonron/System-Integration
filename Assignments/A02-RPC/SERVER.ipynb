[
    {
        "accnum": 420,
        "name": "Daniel",
        "amount": 69
    },
    {
        "accnum": 666,
        "name": "Jacob",
        "amount": 20
    },
    {
        "accnum": 1,
        "name": "Nikolaj",
        "amount": 999
    },
    {
        "accnum": 404,
        "name": "Michael",
        "amount": 123
    }
]