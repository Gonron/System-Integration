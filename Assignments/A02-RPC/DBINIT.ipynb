# SI-Ass2

[Assignment](https://datsoftlyngby.github.io/soft2020fall/resources/53040c09-A2-RPC.pdf)
