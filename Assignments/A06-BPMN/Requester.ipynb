{
 "cells": [
  {
   "cell_type": "code",
   "execution_count": 75,
   "metadata": {},
   "outputs": [
    {
     "data": {
      "text/plain": [
       "ProcessInstance(id_='5398bb3a-16b2-11eb-9097-704d7b678309', definition_id='mailvalid:1:b1d4795f-16ac-11eb-9097-704d7b678309', business_key=None, case_instance_id=None, tenant_id=None, suspended=False, links=(Link(method='GET', href='http://localhost:8080/engine-rest/process-instance/5398bb3a-16b2-11eb-9097-704d7b678309', rel='self'),), variables=None)"
      ]
     },
     "execution_count": 75,
     "metadata": {},
     "output_type": "execute_result"
    }
   ],
   "source": [
    "import pycamunda\n",
    "import pycamunda.externaltask\n",
    "import pycamunda.variable\n",
    "import pycamunda.processdef\n",
    "import pycamunda.task\n",
    "\n",
    "url = 'http://localhost:8080/engine-rest'\n",
    "\n",
    "mail = \"abaaaaaaaaaaaaaaaaaaaaaaaaaaaaaaaaa\"\n",
    "\n",
    "start_instance = pycamunda.processdef.StartInstance(url=url, key='mailvalid')\n",
    "start_instance.add_variable(name='text', value=mail)\n",
    "start_instance()"
   ]
  }
 ],
 "metadata": {
  "kernelspec": {
   "display_name": "Python 3",
   "language": "python",
   "name": "python3"
  },
  "language_info": {
   "codemirror_mode": {
    "name": "ipython",
    "version": 3
   },
   "file_extension": ".py",
   "mimetype": "text/x-python",
   "name": "python",
   "nbconvert_exporter": "python",
   "pygments_lexer": "ipython3",
   "version": "3.7.3"
  }
 },
 "nbformat": 4,
 "nbformat_minor": 2
}
