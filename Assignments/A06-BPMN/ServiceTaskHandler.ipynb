{
 "cells": [
  {
   "cell_type": "code",
   "execution_count": null,
   "metadata": {},
   "outputs": [],
   "source": [
    "from time import time\n",
    "import random\n",
    "import typing\n",
    "import pycamunda.variable\n",
    "import pycamunda.processdef\n",
    "from worker import Worker\n",
    "\n",
    "\n",
    "def val_one(text):\n",
    "    return {'valid': 140>len(text.value)>0}\n",
    "\n",
    "\n",
    "def val_two(text):\n",
    "    denylist = (\"jacob\",\"duck\",\"borg\",\"snake\",\"blacklist\")\n",
    "    words = text.value.split()\n",
    "    is_valid = True\n",
    "    \n",
    "    for word in words:\n",
    "        if word in denylist:\n",
    "            is_valid = False\n",
    "            break\n",
    "    \n",
    "    return {'valid': is_valid}\n",
    "\n",
    "\n",
    "def send_mail(text):\n",
    "    with open(\"mails/\" + str(time()) + \".txt\", \"w+\") as f:\n",
    "        f.write(text.value)\n",
    "    return {}"
   ]
  },
  {
   "cell_type": "code",
   "execution_count": null,
   "metadata": {},
   "outputs": [],
   "source": [
    "url = 'http://localhost:8080/engine-rest'\n",
    "worker_id = '1'\n",
    "\n",
    "worker = Worker(url=url, worker_id=worker_id)\n",
    "worker.subscribe(\n",
    "    topic='val1Topic',\n",
    "    func=val_one,\n",
    "    variables=['text']\n",
    ")\n",
    "worker.subscribe(\n",
    "    topic='val2Topic',\n",
    "    func=val_two,\n",
    "    variables=['text']\n",
    ")\n",
    "worker.subscribe(\n",
    "    topic='sendMailTopic',\n",
    "    func=send_mail,\n",
    "    variables=['text']\n",
    ")\n",
    "\n",
    "worker.run()"
   ]
  }
 ],
 "metadata": {
  "kernelspec": {
   "display_name": "Python 3",
   "language": "python",
   "name": "python3"
  },
  "language_info": {
   "codemirror_mode": {
    "name": "ipython",
    "version": 3
   },
   "file_extension": ".py",
   "mimetype": "text/x-python",
   "name": "python",
   "nbconvert_exporter": "python",
   "pygments_lexer": "ipython3",
   "version": "3.7.3"
  }
 },
 "nbformat": 4,
 "nbformat_minor": 2
}
